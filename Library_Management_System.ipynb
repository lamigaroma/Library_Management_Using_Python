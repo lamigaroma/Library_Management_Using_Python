{
 "cells": [
  {
   "cell_type": "markdown",
   "id": "a847945e-5c44-4563-a6dc-865685cd4637",
   "metadata": {},
   "source": [
    "<h1>Library Management System developed using Python</h1>\n",
    "<h3>Developer: Lami Garoma</h3>\n",
    "<p><b>Project Description</b>\n",
    "This system will enable users to add books to the library, search for books, borrow books, and return books. Throughout this project, I have implemented essential Python concepts, including lists, dictionaries, for loops, functions, and conditionals.\n",
    "</p>"
   ]
  },
  {
   "cell_type": "markdown",
   "id": "e8f14817-3a25-494a-bd18-19eece44606c",
   "metadata": {},
   "source": [
    "<h3>Importing Necessary Libraries</h3>"
   ]
  },
  {
   "cell_type": "code",
   "execution_count": 4,
   "id": "e36b4322-3c63-485e-b2c9-f0a21285c2b0",
   "metadata": {},
   "outputs": [],
   "source": [
    "import datetime"
   ]
  },
  {
   "cell_type": "markdown",
   "id": "fc2d721b-b681-4d39-95a9-90f3c4a8c699",
   "metadata": {},
   "source": [
    "<h2>Defining Data Structures</h2>\n",
    "<h3>Creating lists and dictionaries to store information about the books, borrowed books, and users.</h3>"
   ]
  },
  {
   "cell_type": "code",
   "execution_count": 6,
   "id": "c7327ca3-047b-4dbf-8cb5-8d6ffb6768f7",
   "metadata": {},
   "outputs": [],
   "source": [
    "# list of books in the library\n",
    "library_books = []\n",
    "\n",
    "# Dictionary to store borrowed books\n",
    "borrowed_books = {}\n",
    "\n",
    "# List of Users\n",
    "users = []"
   ]
  },
  {
   "cell_type": "markdown",
   "id": "62ac1968-f47f-40f5-857a-92522590e07f",
   "metadata": {},
   "source": [
    "<h3> Defining Functions </h3>\n",
    "<h4><ol><li>Function to Add a Book to the Library</li></ol></h4>"
   ]
  },
  {
   "cell_type": "code",
   "execution_count": 24,
   "id": "f1b2a4da-17c2-4a0b-bfed-7b7c02664087",
   "metadata": {},
   "outputs": [],
   "source": [
    "# Function to add a new book to the library\n",
    "def add_book(book_id, title, author):\n",
    "    book = {\n",
    "        \"book_id\": book_id,\n",
    "        \"title\": title,\n",
    "        \"author\": author,\n",
    "        \"available\": True\n",
    "    }\n",
    "    library_books.append(book)  # Add the book to the library_books list\n",
    "    print(f\"Book '{title}' by {author} added to the library.\")"
   ]
  },
  {
   "cell_type": "markdown",
   "id": "f226d390-3be9-4c85-8067-abba40273b66",
   "metadata": {},
   "source": [
    "<h4><ol start=2><li>Function to Search for a Book</li></ol></h4>"
   ]
  },
  {
   "cell_type": "code",
   "execution_count": 22,
   "id": "d7d93341-6dbb-4c1d-b197-b53b33f4c754",
   "metadata": {},
   "outputs": [],
   "source": [
    "def search_book(title):\n",
    "    # Search for books in the library that match the given title (case-insensitive)\n",
    "    found_books = [\n",
    "        book for book in library_books\n",
    "        if title.lower() in book[\"title\"].lower()\n",
    "    ]\n",
    "    if found_books:\n",
    "        # Iterate through the found books and print their details\n",
    "        for book in found_books:\n",
    "            status = \"Available\" if book[\"available\"] else \"Borrowed\"\n",
    "            print(\n",
    "                f\"ID: {book['book_id']}, Title: {book['title']},\"\n",
    "                f\"Author: {book['author']}, Status: {status}\"\n",
    "            )\n",
    "    else:\n",
    "        print(\"No books found with that title.\")"
   ]
  },
  {
   "cell_type": "markdown",
   "id": "2e18c8e4-f43d-4740-baaa-7d4b309a3434",
   "metadata": {},
   "source": [
    "<h4><ol start=3><li>Function to Borrow a Book</li></ol></h4>"
   ]
  },
  {
   "cell_type": "code",
   "execution_count": 12,
   "id": "7c026d02-3466-4f56-8f1e-d9fe6087e4cd",
   "metadata": {},
   "outputs": [],
   "source": [
    "def borrow_book(user, book_id):\n",
    "    # Check if the specified book is available and mark it as borrowed\n",
    "    for book in library_books:\n",
    "        if book[\"book_id\"] == book_id and book[\"available\"]:\n",
    "            book[\"available\"] = False  # Mark the book as unavailable\n",
    "            borrowed_books[book_id] = {\n",
    "                \"user\": user,\n",
    "                \"borrow_date\": datetime.date.today()  # Record the borrow date\n",
    "            }\n",
    "            print(f\"Book '{book['title']}' borrowed by {user}.\")\n",
    "            return\n",
    "    print(\"Book not available or does not exist.\")\n"
   ]
  },
  {
   "cell_type": "markdown",
   "id": "24cba2cb-4709-48d4-bd64-39f34e6ffd74",
   "metadata": {},
   "source": [
    "<h4><ol start=4><li>Function to Return a Book</li></ol></h4>"
   ]
  },
  {
   "cell_type": "code",
   "execution_count": 14,
   "id": "300d2ca2-6c1c-43ce-81c2-5d0c788f94ae",
   "metadata": {},
   "outputs": [],
   "source": [
    "def return_book(book_id):\n",
    "    # Check if the book is in borrowed_books and mark it as available\n",
    "    if book_id in borrowed_books:\n",
    "        for book in library_books:\n",
    "            if book[\"book_id\"] == book_id:\n",
    "                book[\"available\"] = True  # Mark the book as available\n",
    "                borrowed_books.pop(book_id)  # Remove the book from borrowed_books\n",
    "                print(f\"Book '{book['title']}' returned.\")\n",
    "                return\n",
    "    print(\"Book not found in borrowed books.\")"
   ]
  },
  {
   "cell_type": "markdown",
   "id": "c507657a-79b9-4740-a690-0b836cc3f432",
   "metadata": {},
   "source": [
    "<h4><ol start=5><li>Implementing User Interaction</li></ol></h4>"
   ]
  },
  {
   "cell_type": "code",
   "execution_count": 20,
   "id": "582e06a6-2c0f-49ea-b793-8051963ef105",
   "metadata": {},
   "outputs": [
    {
     "name": "stdout",
     "output_type": "stream",
     "text": [
      "\n",
      "Library Management System - Menu \n",
      "1. Add Book\n",
      "2. Search Book\n",
      "3. Borrow Book\n",
      "4. Return Book\n",
      "5. Exit\n"
     ]
    },
    {
     "name": "stdin",
     "output_type": "stream",
     "text": [
      "Enter your choice:  1\n",
      "Enter book ID:  123\n",
      "Enter book title:  Introduction to python\n",
      "Enter book author:  Lami Garoma\n"
     ]
    },
    {
     "name": "stdout",
     "output_type": "stream",
     "text": [
      "Book 'Introduction to python' by Lami Garoma added to the library.\n",
      "\n",
      "Library Management System - Menu \n",
      "1. Add Book\n",
      "2. Search Book\n",
      "3. Borrow Book\n",
      "4. Return Book\n",
      "5. Exit\n"
     ]
    },
    {
     "name": "stdin",
     "output_type": "stream",
     "text": [
      "Enter your choice:  1\n",
      "Enter book ID:  456\n",
      "Enter book title:  Advanced python \n",
      "Enter book author:  Lami Garoma\n"
     ]
    },
    {
     "name": "stdout",
     "output_type": "stream",
     "text": [
      "Book 'Advanced python ' by Lami Garoma added to the library.\n",
      "\n",
      "Library Management System - Menu \n",
      "1. Add Book\n",
      "2. Search Book\n",
      "3. Borrow Book\n",
      "4. Return Book\n",
      "5. Exit\n"
     ]
    },
    {
     "name": "stdin",
     "output_type": "stream",
     "text": [
      "Enter your choice:  2\n",
      "Enter book title to search:  mybook\n"
     ]
    },
    {
     "name": "stdout",
     "output_type": "stream",
     "text": [
      "No books found with that title.\n",
      "\n",
      "Library Management System - Menu \n",
      "1. Add Book\n",
      "2. Search Book\n",
      "3. Borrow Book\n",
      "4. Return Book\n",
      "5. Exit\n"
     ]
    },
    {
     "name": "stdin",
     "output_type": "stream",
     "text": [
      "Enter your choice:  introduction to python\n"
     ]
    },
    {
     "name": "stdout",
     "output_type": "stream",
     "text": [
      "Invalid choice. Please try again.\n",
      "\n",
      "Library Management System - Menu \n",
      "1. Add Book\n",
      "2. Search Book\n",
      "3. Borrow Book\n",
      "4. Return Book\n",
      "5. Exit\n"
     ]
    },
    {
     "name": "stdin",
     "output_type": "stream",
     "text": [
      "Enter your choice:  Introduction to python\n"
     ]
    },
    {
     "name": "stdout",
     "output_type": "stream",
     "text": [
      "Invalid choice. Please try again.\n",
      "\n",
      "Library Management System - Menu \n",
      "1. Add Book\n",
      "2. Search Book\n",
      "3. Borrow Book\n",
      "4. Return Book\n",
      "5. Exit\n"
     ]
    },
    {
     "name": "stdin",
     "output_type": "stream",
     "text": [
      "Enter your choice:  2\n",
      "Enter book title to search:  Introduction to python\n"
     ]
    },
    {
     "name": "stdout",
     "output_type": "stream",
     "text": [
      "ID: 123, Title: Introduction to python, Author: Lami Garoma, Status: Available\n",
      "\n",
      "Library Management System - Menu \n",
      "1. Add Book\n",
      "2. Search Book\n",
      "3. Borrow Book\n",
      "4. Return Book\n",
      "5. Exit\n"
     ]
    },
    {
     "name": "stdin",
     "output_type": "stream",
     "text": [
      "Enter your choice:  5\n"
     ]
    },
    {
     "name": "stdout",
     "output_type": "stream",
     "text": [
      "Exiting the system. Goodbye!\n"
     ]
    }
   ],
   "source": [
    "def main():\n",
    "    # Start an infinite loop for the library management system\n",
    "    while True:\n",
    "        print(\"\\nLibrary Management System - Menu \")\n",
    "        print(\"1. Add Book\")\n",
    "        print(\"2. Search Book\")\n",
    "        print(\"3. Borrow Book\")\n",
    "        print(\"4. Return Book\")\n",
    "        print(\"5. Exit\")\n",
    "\n",
    "        choice = input(\"Enter your choice: \")\n",
    "\n",
    "        # Handle user choices for library operations\n",
    "        if choice == '1':\n",
    "            book_id = input(\"Enter book ID: \")\n",
    "            title = input(\"Enter book title: \")\n",
    "            author = input(\"Enter book author: \")\n",
    "            add_book(book_id, title, author)  # Call function to add a new book\n",
    "        \n",
    "        elif choice == '2':\n",
    "            title = input(\"Enter book title to search: \")\n",
    "            search_book(title)  # Call function to search for a book\n",
    "        \n",
    "        elif choice == '3':\n",
    "            user = input(\"Enter your name: \")\n",
    "            book_id = input(\"Enter book ID to borrow: \")\n",
    "            borrow_book(user, book_id)  # Call function to borrow a book\n",
    "        \n",
    "        elif choice == '4':\n",
    "            book_id = input(\"Enter book ID to return: \")\n",
    "            return_book(book_id)  # Call function to return a borrowed book\n",
    "        \n",
    "        elif choice == '5':\n",
    "            print(\"Exiting the system. Goodbye!\")  # Exit message\n",
    "            break  # Exit the loop and end the program\n",
    "        \n",
    "        else:\n",
    "            print(\"Invalid choice. Please try again.\")  # Handle invalid input\n",
    "\n",
    "# Start the Library Management System\n",
    "main()"
   ]
  },
  {
   "cell_type": "code",
   "execution_count": null,
   "id": "bc1a4586-6b94-4325-91d1-f9d9a43ba152",
   "metadata": {},
   "outputs": [],
   "source": []
  }
 ],
 "metadata": {
  "kernelspec": {
   "display_name": "Python [conda env:base] *",
   "language": "python",
   "name": "conda-base-py"
  },
  "language_info": {
   "codemirror_mode": {
    "name": "ipython",
    "version": 3
   },
   "file_extension": ".py",
   "mimetype": "text/x-python",
   "name": "python",
   "nbconvert_exporter": "python",
   "pygments_lexer": "ipython3",
   "version": "3.12.7"
  }
 },
 "nbformat": 4,
 "nbformat_minor": 5
}
